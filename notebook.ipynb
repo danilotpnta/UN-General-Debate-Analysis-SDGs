{
 "cells": [
  {
   "cell_type": "markdown",
   "metadata": {},
   "source": [
    "# UN-General-Debate-Analysis-SDGs\n",
    "\n",
    "This project analyzes the UN General Debate Corpus from 1970 to 2023. It includes exploratory data analysis (EDA), predictive modeling, and data visualizations focusing on uncovering insights from political speeches and their connection to global challenges.\n",
    "\n",
    "The project is divided into the following sections:\n",
    "\n",
    "1. Data Preprocessing\n",
    "2. Exploratory Data Analysis\n",
    "3. Predictive Modeling\n",
    "4. Data Visualization"
   ]
  },
  {
   "cell_type": "markdown",
   "metadata": {},
   "source": [
    "## Data Preprocessing\n",
    "\n",
    "#### Donwloading the dataset"
   ]
  },
  {
   "cell_type": "code",
   "execution_count": null,
   "metadata": {},
   "outputs": [],
   "source": [
    "\n",
    "from utils.dataverse_downloader import download_dataset\n",
    "\n",
    "# Call the function to download all files\n",
    "download_dataset()\n"
   ]
  },
  {
   "cell_type": "markdown",
   "metadata": {},
   "source": [
    "## Exploratory Data Analysis\n"
   ]
  },
  {
   "cell_type": "markdown",
   "metadata": {},
   "source": []
  }
 ],
 "metadata": {
  "language_info": {
   "name": "python"
  }
 },
 "nbformat": 4,
 "nbformat_minor": 2
}
