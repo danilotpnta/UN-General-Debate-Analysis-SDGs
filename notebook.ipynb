{
  "cells": [
    {
      "cell_type": "markdown",
      "metadata": {
        "id": "view-in-github",
        "colab_type": "text"
      },
      "source": [
        "<a href=\"https://colab.research.google.com/github/danilotpnta/UN-General-Debate-Analysis-SDGs/blob/main/notebook.ipynb\" target=\"_parent\"><img src=\"https://colab.research.google.com/assets/colab-badge.svg\" alt=\"Open In Colab\"/></a>"
      ]
    },
    {
      "cell_type": "markdown",
      "metadata": {
        "id": "8rCg7ewfr85L"
      },
      "source": [
        "# UN-General-Debate-Analysis-SDGs\n",
        "\n",
        "This project analyzes the UN General Debate Corpus from 1970 to 2023. It includes exploratory data analysis (EDA), predictive modeling, and data visualizations focusing on uncovering insights from political speeches and their connection to global challenges.\n",
        "\n",
        "The project is divided into the following sections:\n",
        "\n",
        "1. Data Preprocessing\n",
        "2. Exploratory Data Analysis\n",
        "3. Predictive Modeling\n",
        "4. Data Visualization"
      ]
    },
    {
      "cell_type": "markdown",
      "metadata": {
        "id": "tWIfeB6Gr85N"
      },
      "source": [
        "## Data Preprocessing\n",
        "\n",
        "#### Donwloading the dataset"
      ]
    },
    {
      "cell_type": "code",
      "execution_count": null,
      "metadata": {
        "id": "CNHimELGr85N",
        "outputId": "9ffc319e-c63d-4fb6-ff22-0b008f8d2002"
      },
      "outputs": [
        {
          "name": "stdout",
          "output_type": "stream",
          "text": [
            "Downloading dataset...\n",
            "File already downloaded: Raw_PDFs_1946-1969.tgz\n",
            "File already downloaded: Raw_PDFs_1970-1990.tgz\n",
            "File already downloaded: Raw_PDFs_1991-2022.tgz\n",
            "File already downloaded: README.txt\n",
            "File already downloaded: Speakers_by_session.xlsx\n",
            "File already downloaded: UNGDC_1946-2023.tgz\n"
          ]
        }
      ],
      "source": [
        "from utils.dataverse_downloader import download_dataset\n",
        "\n",
        "# Call the function to download all files\n",
        "download_dataset()"
      ]
    },
    {
      "cell_type": "markdown",
      "metadata": {
        "id": "0QgP_aGGr85O"
      },
      "source": [
        "## Exploratory Data Analysis\n"
      ]
    },
    {
      "cell_type": "markdown",
      "metadata": {
        "id": "npe1bVSwr85O"
      },
      "source": [
        "Testing updating github repo"
      ]
    }
  ],
  "metadata": {
    "kernelspec": {
      "display_name": "base",
      "language": "python",
      "name": "python3"
    },
    "language_info": {
      "codemirror_mode": {
        "name": "ipython",
        "version": 3
      },
      "file_extension": ".py",
      "mimetype": "text/x-python",
      "name": "python",
      "nbconvert_exporter": "python",
      "pygments_lexer": "ipython3",
      "version": "3.12.4"
    },
    "colab": {
      "provenance": [],
      "include_colab_link": true
    }
  },
  "nbformat": 4,
  "nbformat_minor": 0
}