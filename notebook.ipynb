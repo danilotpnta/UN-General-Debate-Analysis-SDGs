{
  "cells": [
    {
      "cell_type": "markdown",
      "metadata": {
        "colab_type": "text",
        "id": "view-in-github"
      },
      "source": [
        "<a href=\"https://colab.research.google.com/github/danilotpnta/UN-General-Debate-Analysis-SDGs/blob/main/notebook.ipynb\" target=\"_parent\"><img src=\"https://colab.research.google.com/assets/colab-badge.svg\" alt=\"Open In Colab\"/></a>"
      ]
    },
    {
      "cell_type": "markdown",
      "metadata": {
        "id": "8rCg7ewfr85L"
      },
      "source": [
        "# UN-General-Debate-Analysis-SDGs\n",
        "\n",
        "This project analyzes the UN General Debate Corpus from 1970 to 2023. It includes exploratory data analysis (EDA), predictive modeling, and data visualizations focusing on uncovering insights from political speeches and their connection to global challenges.\n",
        "\n",
        "The project is divided into the following sections:\n",
        "\n",
        "1. Data Preprocessing\n",
        "2. Exploratory Data Analysis\n",
        "3. Predictive Modeling\n",
        "4. Data Visualization"
      ]
    },
    {
      "cell_type": "markdown",
      "metadata": {
        "id": "mpJR2ZmH37Fy"
      },
      "source": [
        "## If running from Google Colab"
      ]
    },
    {
      "cell_type": "code",
      "execution_count": 19,
      "metadata": {
        "colab": {
          "base_uri": "https://localhost:8080/"
        },
        "id": "3DzNkEEB3U_B",
        "outputId": "8114b1fd-be93-49d3-f078-f02f42546c34"
      },
      "outputs": [
        {
          "name": "stdout",
          "output_type": "stream",
          "text": [
            "Cloning into 'UN-General-Debate-Analysis-SDGs'...\n",
            "remote: Enumerating objects: 34, done.\u001b[K\n",
            "remote: Counting objects: 100% (34/34), done.\u001b[K\n",
            "remote: Compressing objects: 100% (25/25), done.\u001b[K\n",
            "remote: Total 34 (delta 12), reused 22 (delta 5), pack-reused 0 (from 0)\u001b[K\n",
            "Receiving objects: 100% (34/34), 77.71 KiB | 5.55 MiB/s, done.\n",
            "Resolving deltas: 100% (12/12), done.\n",
            "[Errno 2] No such file or directory: '/content/UN-General-Debate-Analysis-SDGs'\n",
            "/Users/datoapanta/code/UN-General-Debate-Analysis-SDGs\n"
          ]
        }
      ],
      "source": [
        "# Clone your GitHub repository\n",
        "!git clone https://github.com/danilotpnta/UN-General-Debate-Analysis-SDGs.git\n",
        "\n",
        "# Navigate to the repository folder\n",
        "%cd /content/UN-General-Debate-Analysis-SDGs"
      ]
    },
    {
      "cell_type": "markdown",
      "metadata": {
        "id": "tWIfeB6Gr85N"
      },
      "source": [
        "## Data Preprocessing\n",
        "\n",
        "#### Donwloading the dataset"
      ]
    },
    {
      "cell_type": "code",
      "execution_count": 21,
      "metadata": {
        "colab": {
          "base_uri": "https://localhost:8080/"
        },
        "id": "CNHimELGr85N",
        "outputId": "8c67978c-74b6-4ad9-daab-e8b5bd9f056b"
      },
      "outputs": [
        {
          "name": "stdout",
          "output_type": "stream",
          "text": [
            "Downloading dataset...\n",
            "File already downloaded: Raw_PDFs_1946-1969.tgz\n",
            "File already downloaded: Raw_PDFs_1970-1990.tgz\n",
            "File already downloaded: Raw_PDFs_1991-2022.tgz\n",
            "File already downloaded: README.txt\n",
            "File already downloaded: Speakers_by_session.xlsx\n",
            "File already downloaded: UNGDC_1946-2023.tgz\n",
            "Uncompressing data...\n",
            "Data already uncompressed: data/raw/Raw_PDFs_1946-1969\n",
            "Data already uncompressed: data/raw/Raw_PDFs_1970-1990\n",
            "Data already uncompressed: data/raw/Raw_PDFs_1991-2022\n",
            "Data already uncompressed: data/raw/UNGDC_1946-2023\n"
          ]
        }
      ],
      "source": [
        "from importlib import reload\n",
        "import utils.dataverse_downloader as dataverse_downloader\n",
        "\n",
        "# Reload the module\n",
        "reload(dataverse_downloader)\n",
        "\n",
        "# Call the function to download all files\n",
        "dataverse_downloader.download_dataset()"
      ]
    },
    {
      "cell_type": "code",
      "execution_count": null,
      "metadata": {},
      "outputs": [],
      "source": [
        "# Load the data\n",
        "import pandas as pd\n",
        "\n",
        "# import tgz file into a dataframe\n",
        "df = pd.read_csv('data/UN-general-debates-1970-2016-Part1.csv')\n",
        "\n"
      ]
    },
    {
      "cell_type": "markdown",
      "metadata": {
        "id": "0QgP_aGGr85O"
      },
      "source": [
        "## Exploratory Data Analysis\n"
      ]
    }
  ],
  "metadata": {
    "colab": {
      "include_colab_link": true,
      "provenance": []
    },
    "kernelspec": {
      "display_name": "base",
      "language": "python",
      "name": "python3"
    },
    "language_info": {
      "codemirror_mode": {
        "name": "ipython",
        "version": 3
      },
      "file_extension": ".py",
      "mimetype": "text/x-python",
      "name": "python",
      "nbconvert_exporter": "python",
      "pygments_lexer": "ipython3",
      "version": "3.9.19"
    }
  },
  "nbformat": 4,
  "nbformat_minor": 0
}
