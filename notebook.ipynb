{
  "cells": [
    {
      "cell_type": "markdown",
      "metadata": {
        "colab_type": "text",
        "id": "view-in-github"
      },
      "source": [
        "<a href=\"https://colab.research.google.com/github/danilotpnta/UN-General-Debate-Analysis-SDGs/blob/main/notebook.ipynb\" target=\"_parent\"><img src=\"https://colab.research.google.com/assets/colab-badge.svg\" alt=\"Open In Colab\"/></a>"
      ]
    },
    {
      "cell_type": "markdown",
      "metadata": {
        "id": "8rCg7ewfr85L"
      },
      "source": [
        "# UN-General-Debate-Analysis-SDGs\n",
        "\n",
        "This project analyzes the UN General Debate Corpus from 1970 to 2023. It includes exploratory data analysis (EDA), predictive modeling, and data visualizations focusing on uncovering insights from political speeches and their connection to global challenges.\n",
        "\n",
        "The project is divided into the following sections:\n",
        "\n",
        "1. Data Preprocessing\n",
        "2. Exploratory Data Analysis\n",
        "3. Predictive Modeling\n",
        "4. Data Visualization"
      ]
    },
    {
      "cell_type": "markdown",
      "source": [
        "## If running from Google Colab"
      ],
      "metadata": {
        "id": "mpJR2ZmH37Fy"
      }
    },
    {
      "cell_type": "code",
      "source": [
        "# Clone your GitHub repository\n",
        "!git clone https://github.com/danilotpnta/UN-General-Debate-Analysis-SDGs.git\n",
        "\n",
        "# Navigate to the repository folder\n",
        "%cd /content/UN-General-Debate-Analysis-SDGs"
      ],
      "metadata": {
        "id": "3DzNkEEB3U_B",
        "outputId": "8114b1fd-be93-49d3-f078-f02f42546c34",
        "colab": {
          "base_uri": "https://localhost:8080/"
        }
      },
      "execution_count": 12,
      "outputs": [
        {
          "output_type": "stream",
          "name": "stdout",
          "text": [
            "Cloning into 'UN-General-Debate-Analysis-SDGs'...\n",
            "remote: Enumerating objects: 21, done.\u001b[K\n",
            "remote: Counting objects: 100% (21/21), done.\u001b[K\n",
            "remote: Compressing objects: 100% (17/17), done.\u001b[K\n",
            "remote: Total 21 (delta 7), reused 11 (delta 2), pack-reused 0 (from 0)\u001b[K\n",
            "Receiving objects: 100% (21/21), 6.96 KiB | 6.96 MiB/s, done.\n",
            "Resolving deltas: 100% (7/7), done.\n",
            "/content/UN-General-Debate-Analysis-SDGs\n"
          ]
        }
      ]
    },
    {
      "cell_type": "markdown",
      "metadata": {
        "id": "tWIfeB6Gr85N"
      },
      "source": [
        "## Data Preprocessing\n",
        "\n",
        "#### Donwloading the dataset"
      ]
    },
    {
      "cell_type": "code",
      "execution_count": 13,
      "metadata": {
        "id": "CNHimELGr85N",
        "outputId": "8c67978c-74b6-4ad9-daab-e8b5bd9f056b",
        "colab": {
          "base_uri": "https://localhost:8080/"
        }
      },
      "outputs": [
        {
          "output_type": "stream",
          "name": "stdout",
          "text": [
            "Downloading dataset...\n"
          ]
        },
        {
          "output_type": "stream",
          "name": "stderr",
          "text": [
            "Raw_PDFs_1946-1969.tgz: 100%|██████████| 1.49G/1.49G [01:44<00:00, 15.3MB/s]\n",
            "Raw_PDFs_1970-1990.tgz: 100%|██████████| 2.03G/2.03G [02:21<00:00, 15.3MB/s]\n",
            "Raw_PDFs_1991-2022.tgz: 100%|██████████| 280M/280M [00:17<00:00, 16.4MB/s]\n",
            "README.txt: 100%|██████████| 1.49k/1.49k [00:00<00:00, 1.43MB/s]\n",
            "Speakers_by_session.xlsx: 100%|██████████| 456k/456k [00:00<00:00, 3.16MB/s]\n",
            "UNGDC_1946-2023.tgz: 100%|██████████| 66.2M/66.2M [00:04<00:00, 15.8MB/s]\n"
          ]
        }
      ],
      "source": [
        "from utils.dataverse_downloader import download_dataset\n",
        "\n",
        "# Call the function to download all files\n",
        "download_dataset()"
      ]
    },
    {
      "cell_type": "markdown",
      "metadata": {
        "id": "0QgP_aGGr85O"
      },
      "source": [
        "## Exploratory Data Analysis\n"
      ]
    }
  ],
  "metadata": {
    "colab": {
      "include_colab_link": true,
      "provenance": []
    },
    "kernelspec": {
      "display_name": "base",
      "language": "python",
      "name": "python3"
    },
    "language_info": {
      "codemirror_mode": {
        "name": "ipython",
        "version": 3
      },
      "file_extension": ".py",
      "mimetype": "text/x-python",
      "name": "python",
      "nbconvert_exporter": "python",
      "pygments_lexer": "ipython3",
      "version": "3.12.4"
    }
  },
  "nbformat": 4,
  "nbformat_minor": 0
}
